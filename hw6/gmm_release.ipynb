{
 "cells": [
  {
   "cell_type": "code",
   "execution_count": 1,
   "metadata": {},
   "outputs": [],
   "source": [
    "import numpy as np\n",
    "import matplotlib.pyplot as plt\n",
    "import scipy.io as sio"
   ]
  },
  {
   "cell_type": "code",
   "execution_count": 4,
   "metadata": {},
   "outputs": [
    {
     "data": {
      "text/plain": [
       "(array([  1.,   0.,   0.,   0.,   0.,   0.,   1.,   0.,   2.,   0.,   0.,\n",
       "          1.,   5.,   2.,   4.,   6.,   3.,  11.,   7.,  10.,   7.,  16.,\n",
       "         20.,  14.,  29.,  31.,  26.,  37.,  44.,  64.,  93., 152., 270.,\n",
       "        423., 524., 531., 512., 472., 316., 242., 179., 124., 127.,  92.,\n",
       "        124., 119., 112., 127., 141., 112., 120., 127., 127., 104., 101.,\n",
       "        102.,  83.,  97.,  74.,  84.,  94.,  65.,  62.,  53.,  69.,  49.,\n",
       "         47.,  39.,  66.,  84., 102., 125., 128., 148., 209., 191., 246.,\n",
       "        246., 239., 253., 249., 234., 191., 158., 147., 125.,  68.,  53.,\n",
       "         31.,  20.,  18.,  17.,  10.,   6.,   2.,   1.,   1.,   0.,   1.,\n",
       "          1.]), array([-15.11970243, -14.72410849, -14.32851456, -13.93292062,\n",
       "        -13.53732669, -13.14173275, -12.74613881, -12.35054488,\n",
       "        -11.95495094, -11.55935701, -11.16376307, -10.76816913,\n",
       "        -10.3725752 ,  -9.97698126,  -9.58138733,  -9.18579339,\n",
       "         -8.79019946,  -8.39460552,  -7.99901158,  -7.60341765,\n",
       "         -7.20782371,  -6.81222978,  -6.41663584,  -6.0210419 ,\n",
       "         -5.62544797,  -5.22985403,  -4.8342601 ,  -4.43866616,\n",
       "         -4.04307222,  -3.64747829,  -3.25188435,  -2.85629042,\n",
       "         -2.46069648,  -2.06510254,  -1.66950861,  -1.27391467,\n",
       "         -0.87832074,  -0.4827268 ,  -0.08713287,   0.30846107,\n",
       "          0.70405501,   1.09964894,   1.49524288,   1.89083681,\n",
       "          2.28643075,   2.68202469,   3.07761862,   3.47321256,\n",
       "          3.86880649,   4.26440043,   4.65999437,   5.0555883 ,\n",
       "          5.45118224,   5.84677617,   6.24237011,   6.63796405,\n",
       "          7.03355798,   7.42915192,   7.82474585,   8.22033979,\n",
       "          8.61593372,   9.01152766,   9.4071216 ,   9.80271553,\n",
       "         10.19830947,  10.5939034 ,  10.98949734,  11.38509128,\n",
       "         11.78068521,  12.17627915,  12.57187308,  12.96746702,\n",
       "         13.36306096,  13.75865489,  14.15424883,  14.54984276,\n",
       "         14.9454367 ,  15.34103064,  15.73662457,  16.13221851,\n",
       "         16.52781244,  16.92340638,  17.31900031,  17.71459425,\n",
       "         18.11018819,  18.50578212,  18.90137606,  19.29696999,\n",
       "         19.69256393,  20.08815787,  20.4837518 ,  20.87934574,\n",
       "         21.27493967,  21.67053361,  22.06612755,  22.46172148,\n",
       "         22.85731542,  23.25290935,  23.64850329,  24.04409723,\n",
       "         24.43969116]), <a list of 100 Patch objects>)"
      ]
     },
     "execution_count": 4,
     "metadata": {},
     "output_type": "execute_result"
    },
    {
     "data": {
      "image/png": "[encoded data removed]",
      "text/plain": [
       "<Figure size 432x288 with 1 Axes>"
      ]
     },
     "metadata": {
      "needs_background": "light"
     },
     "output_type": "display_data"
    }
   ],
   "source": [
    "x = sio.loadmat('sample_data.mat')['x'][0,:]\n",
    "\n",
    "\n",
    "plt.hist(x,100)\n",
    "\n"
   ]
  },
  {
   "cell_type": "code",
   "execution_count": null,
   "metadata": {},
   "outputs": [],
   "source": []
  }
 ],
 "metadata": {
  "kernelspec": {
   "display_name": "Python 2",
   "language": "python",
   "name": "python2"
  },
  "language_info": {
   "codemirror_mode": {
    "name": "ipython",
    "version": 2
   },
   "file_extension": ".py",
   "mimetype": "text/x-python",
   "name": "python",
   "nbconvert_exporter": "python",
   "pygments_lexer": "ipython2",
   "version": "2.7.16"
  }
 },
 "nbformat": 4,
 "nbformat_minor": 2
}
